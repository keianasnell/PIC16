{
 "cells": [
  {
   "cell_type": "markdown",
   "metadata": {},
   "source": [
    "Your task in this option is create a random Haiku generator program. A Haiku is a poem like:\n",
    "\n",
    "Whitecaps on the bay: <br>\n",
    "A broken signboard banging <br>\n",
    "In the April wind. <br>\n",
    "— Richard Wright, collected in Haiku: This Other World, 1998, copied from <a href = \"https://en.wikipedia.org/wiki/Haiku\">Wikipedia</a>\n",
    "\n",
    "A haiku is defined not by a rhyme pattern, but by the number of syllables in each line. Traditionally, a haiku has three lines: <br>\n",
    "First: Five syllables. <br>\n",
    "Seven in the second line, <br>\n",
    "and Five in the third. <br>\n",
    "— Matt Haberland\n",
    "\n",
    "Your random haiku genarator will generate haikus worthy of literary praise almost surely. Of course, it will generate many, many more bad haikus, like:\n",
    "\n",
    "gnatcatcher julep <br>\n",
    "renewable unite male <br>\n",
    "miscreation loll <br>\n",
    "— Matt Haberland's random haiku generator"
   ]
  },
  {
   "cell_type": "markdown",
   "metadata": {},
   "source": [
    "Before you begin, you might need to use the NLTK downloader to get the corpora <tt>cmudict</tt> and <tt>words</tt>. If they are already installed, the following should succeed."
   ]
  },
  {
   "cell_type": "code",
   "execution_count": 4,
   "metadata": {
    "collapsed": true
   },
   "outputs": [],
   "source": [
    "from nltk.corpus import cmudict\n",
    "from nltk.corpus import words"
   ]
  },
  {
   "cell_type": "markdown",
   "metadata": {},
   "source": [
    "If not, you need to get them."
   ]
  },
  {
   "cell_type": "code",
   "execution_count": 5,
   "metadata": {},
   "outputs": [
    {
     "name": "stdout",
     "output_type": "stream",
     "text": [
      "showing info https://raw.githubusercontent.com/nltk/nltk_data/gh-pages/index.xml\n"
     ]
    },
    {
     "data": {
      "text/plain": [
       "True"
      ]
     },
     "execution_count": 5,
     "metadata": {},
     "output_type": "execute_result"
    }
   ],
   "source": [
    "import nltk\n",
    "nltk.download()"
   ]
  },
  {
   "cell_type": "markdown",
   "metadata": {},
   "source": [
    "I'm going to give you some help. <tt>cmudict.dict()</tt> returns a Python dictionary in which each key is a word and the corresponding value is a <i>list</i> containing ways of pronouncing the word. When there is more than one pronunciation, the list has more than one element. I suggest you explore some entries in <tt>cmyduct.dict()</tt> to get a better sense of what's going on. Try looking up the pronunciation \"hello\" and \"goodbye\". <i>Don't worry at all if you don't understand how to interpret the pronunciations. I don't. It's irrelevant for this problem. The only point is that each key is a word and the corresponding value is a <i>list</i> containing some representation of ways of pronouncing the word</i>."
   ]
  },
  {
   "cell_type": "code",
   "execution_count": 6,
   "metadata": {},
   "outputs": [],
   "source": [
    "d = cmudict.dict()\n",
    "# Explore this object.\n",
    "# Suggestion: don't print it all. \n",
    "# That would take a while..."
   ]
  },
  {
   "cell_type": "markdown",
   "metadata": {},
   "source": [
    "Based on this, we can write a function that determines the number of syllables in a given word."
   ]
  },
  {
   "cell_type": "code",
   "execution_count": 9,
   "metadata": {},
   "outputs": [],
   "source": [
    "def nsyl(word):\n",
    "  return [len(list(y for y in x if y[-1].isdigit())) for x in d[word.lower()]]\n",
    "\n",
    "\n",
    "# I did not write this. \n",
    "# Tomorrow I'll share the source...\n",
    "# if you ask nicely."
   ]
  },
  {
   "cell_type": "markdown",
   "metadata": {},
   "source": [
    "You don't need to understand <i>exactly</i> how the function works, because that would require understanding how the dictionary represents pronunciations. But in short, <tt>nsyl</tt> does some processing on the pronunciations to determine the number of syllables in each pronunciation. Before proceeding, I suggest you try it out on \"hello\", \"goodbye\", and maybe some other common words to get a sense of how it works. "
   ]
  },
  {
   "cell_type": "code",
   "execution_count": 8,
   "metadata": {},
   "outputs": [
    {
     "ename": "NameError",
     "evalue": "name 'nsyl' is not defined",
     "output_type": "error",
     "traceback": [
      "\u001b[0;31m---------------------------------------------------------------------------\u001b[0m",
      "\u001b[0;31mNameError\u001b[0m                                 Traceback (most recent call last)",
      "\u001b[0;32m<ipython-input-8-f1fd8722eb53>\u001b[0m in \u001b[0;36m<module>\u001b[0;34m()\u001b[0m\n\u001b[1;32m      1\u001b[0m \u001b[0;31m#nsyl(\"hello\")\u001b[0m\u001b[0;34m\u001b[0m\u001b[0;34m\u001b[0m\u001b[0m\n\u001b[0;32m----> 2\u001b[0;31m \u001b[0mnsyl\u001b[0m\u001b[0;34m(\u001b[0m\u001b[0;34m\"goodbye\"\u001b[0m\u001b[0;34m)\u001b[0m\u001b[0;34m\u001b[0m\u001b[0m\n\u001b[0m",
      "\u001b[0;31mNameError\u001b[0m: name 'nsyl' is not defined"
     ]
    }
   ],
   "source": [
    "#nsyl(\"hello\")\n",
    "nsyl(\"goodbye\")"
   ]
  },
  {
   "cell_type": "markdown",
   "metadata": {},
   "source": [
    "1) Create a dictionary <tt>d2</tt> in which each key is an integer and the corresponding value is a list of all words with that many syllables. <i>For words with multiple pronunciations, consider only the first pronunciation. </i>"
   ]
  },
  {
   "cell_type": "code",
   "execution_count": 10,
   "metadata": {},
   "outputs": [],
   "source": [
    "d2 = {}\n",
    "for key in d.keys():\n",
    "    x = nsyl(key) #number of syllable\n",
    "    syl = x[0]\n",
    "    if syl not in d2.keys():\n",
    "        d2[syl] = [key]\n",
    "    else:\n",
    "        d2[syl].append(key)"
   ]
  },
  {
   "cell_type": "markdown",
   "metadata": {},
   "source": [
    "2) One word in the dictionary contains more syllables than any other. Print this word."
   ]
  },
  {
   "cell_type": "code",
   "execution_count": 152,
   "metadata": {},
   "outputs": [
    {
     "name": "stdout",
     "output_type": "stream",
     "text": [
      "[0, 1, 2, 3, 4, 5, 6, 7, 8, 9, 12, 14]\n"
     ]
    },
    {
     "data": {
      "text/plain": [
       "[u'supercalifragilisticexpealidoshus']"
      ]
     },
     "execution_count": 152,
     "metadata": {},
     "output_type": "execute_result"
    }
   ],
   "source": [
    "print d2.keys()\n",
    "d2[14]"
   ]
  },
  {
   "cell_type": "markdown",
   "metadata": {},
   "source": [
    "3) Print the number of words with a given number of syllables like:\n",
    "<pre>\n",
    "0: 4\n",
    "1: 16240\n",
    "2: 56982\n",
    "</pre>\n",
    "etc... <br>\n",
    "Note that there are are some words with zero syllables. That's fine. Not all \"words\" in the dictionary are real English words. We'll revisit this in the very last step."
   ]
  },
  {
   "cell_type": "code",
   "execution_count": 42,
   "metadata": {},
   "outputs": [
    {
     "name": "stdout",
     "output_type": "stream",
     "text": [
      "0: 4\n",
      "1: 16240\n",
      "2: 56982\n",
      "3: 33850\n",
      "4: 12132\n",
      "5: 3398\n",
      "6: 722\n",
      "7: 108\n",
      "8: 15\n",
      "9: 2\n",
      "12: 1\n",
      "14: 1\n"
     ]
    }
   ],
   "source": [
    "for key in d2.keys():\n",
    "    print str(key) + \": \" + str(len(d2[key]))"
   ]
  },
  {
   "cell_type": "markdown",
   "metadata": {
    "collapsed": true
   },
   "source": [
    "4) Create a histogram with the title \"Number of Syllables in English Words\" using Plotly (offline). I want you to use the <tt>Histogram</tt> trace, but if you can't figure out how to do that you may use a different type of trace (slight penalty). Whatever you do, the frequency/count of words of a given number of syllables should be represented by a vertical bar."
   ]
  },
  {
   "cell_type": "code",
   "execution_count": 21,
   "metadata": {},
   "outputs": [
    {
     "name": "stderr",
     "output_type": "stream",
     "text": [
      "IOPub data rate exceeded.\n",
      "The notebook server will temporarily stop sending output\n",
      "to the client in order to avoid crashing it.\n",
      "To change this limit, set the config variable\n",
      "`--NotebookApp.iopub_data_rate_limit`.\n"
     ]
    }
   ],
   "source": [
    "from plotly.plotly import iplot\n",
    "from plotly.graph_objs import Histogram,Data,Layout,Figure\n",
    "plotly.offline.init_notebook_mode() # uncomment these if you want to plot offline\n",
    "from plotly.offline import iplot"
   ]
  },
  {
   "cell_type": "code",
   "execution_count": 23,
   "metadata": {},
   "outputs": [
    {
     "data": {
      "application/vnd.plotly.v1+json": {
       "data": [
        {
         "type": "histogram",
         "x": [],
         "y": []
        }
       ],
       "layout": {
        "title": "Number of Syllables in English Words"
       }
      },
      "text/html": [
       "<div id=\"0955183d-dc1a-49e1-84f4-dd8012f0e7e7\" style=\"height: 525px; width: 100%;\" class=\"plotly-graph-div\"></div><script type=\"text/javascript\">require([\"plotly\"], function(Plotly) { window.PLOTLYENV=window.PLOTLYENV || {};window.PLOTLYENV.BASE_URL=\"https://plot.ly\";Plotly.newPlot(\"0955183d-dc1a-49e1-84f4-dd8012f0e7e7\", [{\"y\": [], \"x\": [], \"type\": \"histogram\"}], {\"title\": \"Number of Syllables in English Words\"}, {\"linkText\": \"Export to plot.ly\", \"showLink\": true})});</script>"
      ],
      "text/vnd.plotly.v1+html": [
       "<div id=\"0955183d-dc1a-49e1-84f4-dd8012f0e7e7\" style=\"height: 525px; width: 100%;\" class=\"plotly-graph-div\"></div><script type=\"text/javascript\">require([\"plotly\"], function(Plotly) { window.PLOTLYENV=window.PLOTLYENV || {};window.PLOTLYENV.BASE_URL=\"https://plot.ly\";Plotly.newPlot(\"0955183d-dc1a-49e1-84f4-dd8012f0e7e7\", [{\"y\": [], \"x\": [], \"type\": \"histogram\"}], {\"title\": \"Number of Syllables in English Words\"}, {\"linkText\": \"Export to plot.ly\", \"showLink\": true})});</script>"
      ]
     },
     "metadata": {},
     "output_type": "display_data"
    }
   ],
   "source": [
    "# Your code here\n",
    "import plotly\n",
    "x = []\n",
    "y = []\n",
    "for key in d2.keys():\n",
    "    x.append(key)\n",
    "    y.append(len(d2[key]))\n",
    "\n",
    "trace = Histogram(x=xaxis, y=yaxis)\n",
    "data = Data([trace])\n",
    "layout = Layout(title=\"Number of Syllables in English Words\")\n",
    "figure = Figure(data=data, layout=layout)\n",
    "iplot(figure)"
   ]
  },
  {
   "cell_type": "markdown",
   "metadata": {},
   "source": [
    "5) Write a function <tt>sylPattern(n)</tt> that returns a list of random integers that sum to <tt>n</tt>. (Later, you will choose for each element of the list a random word with the given number of syllables.) Your function should work for any n > 1. Test it for n = 15. For example:\n",
    "<pre>\n",
    "x = sylPattern(15)\n",
    "print x\n",
    "print sum(x) == 15\n",
    "</pre>\n",
    "should print something like:\n",
    "<pre>\n",
    "[1, 5, 1, 1, 5, 2]\n",
    "True\n",
    "</pre>\n",
    "<i>Hint: You don't need to know any special functions to do this; all you need is basic random number generation capability from the </i><tt>random</tt><i> module. The rest of the algorithm is up to you.</i>"
   ]
  },
  {
   "cell_type": "code",
   "execution_count": 91,
   "metadata": {},
   "outputs": [
    {
     "name": "stdout",
     "output_type": "stream",
     "text": [
      "[1, 8, 4, 1, 1]\n",
      "True\n"
     ]
    }
   ],
   "source": [
    "# Your code here\n",
    "import random\n",
    "\n",
    "def sylPattern(num):\n",
    "    total = num\n",
    "    ints = []\n",
    "    while total > 0:\n",
    "        x = random.randint(1,total)\n",
    "        ints.append(x)\n",
    "        total = total - x\n",
    "    return ints\n",
    "\n",
    "x = sylPattern(15)\n",
    "print x\n",
    "print sum(x) == 15"
   ]
  },
  {
   "cell_type": "markdown",
   "metadata": {},
   "source": [
    "6) Write and test a function <tt>randWord(n)</tt> that returns a random word with <tt>n</tt> syllables. For instance:\n",
    "<pre>\n",
    "print randWord(6)\n",
    "</pre>\n",
    "shows something like:\n",
    "<pre>\n",
    "amiability\n",
    "</pre>"
   ]
  },
  {
   "cell_type": "code",
   "execution_count": 113,
   "metadata": {},
   "outputs": [
    {
     "name": "stdout",
     "output_type": "stream",
     "text": [
      "united's\n"
     ]
    }
   ],
   "source": [
    "# Your code here\n",
    "import random\n",
    "def randWord(n):\n",
    "    rand_num = random.randint(0,len(d2[n]))\n",
    "    return d2[n][rand_num]\n",
    "\n",
    "print randWord(3)"
   ]
  },
  {
   "cell_type": "markdown",
   "metadata": {},
   "source": [
    "7) Write and test a function <tt>randLine(n)</tt> that returns a line with <tt>n</tt> syllables (separated by spaces). For instance:\n",
    "<pre>\n",
    "randLine(10)\n",
    "</pre>\n",
    "shows something like:\n",
    "<pre>\n",
    "porcupine melodrama gable scot\n",
    "</pre>"
   ]
  },
  {
   "cell_type": "code",
   "execution_count": 140,
   "metadata": {},
   "outputs": [
    {
     "name": "stdout",
     "output_type": "stream",
     "text": [
      "electromagnetism sofamor \n"
     ]
    }
   ],
   "source": [
    "# Your code here\n",
    "import random\n",
    "\n",
    "def randLine(n):\n",
    "    total = n\n",
    "    line = []\n",
    "    while total > 0:\n",
    "        rand_num = random.randint(1, total)\n",
    "        while rand_num == 10 or rand_num == 11 or rand_num == 13:\n",
    "            rand_num = random.randint(1, total)\n",
    "        rand_word = random.randint(0, len(d2[rand_num]))\n",
    "        x = d2[rand_num][rand_word]\n",
    "        line.append(x)\n",
    "        total = total - rand_num\n",
    "    \n",
    "    fin = \"\"\n",
    "    for word in line:\n",
    "        fin += word + \" \"\n",
    "    return fin\n",
    "        \n",
    "print randLine(10)"
   ]
  },
  {
   "cell_type": "markdown",
   "metadata": {},
   "source": [
    "8) Finally, write and test haiku(). For instance:\n",
    "<pre>\n",
    "print haiku()\n",
    "</pre>\n",
    "should show a haiku formatted like:\n",
    "<pre>\n",
    "psalm degenerate\n",
    "lapsed land mend holl franchiser\n",
    "chia ill pint draft\n",
    "</pre>"
   ]
  },
  {
   "cell_type": "code",
   "execution_count": 160,
   "metadata": {},
   "outputs": [
    {
     "name": "stdout",
     "output_type": "stream",
     "text": [
      "inebriating \n",
      "cures naturalizes blurb \n",
      "eradicating \n",
      "\n"
     ]
    }
   ],
   "source": [
    "# Your code here\n",
    "import random\n",
    "def haiku():\n",
    "    h = \"\"\n",
    "    h += randLine(5) + '\\n'\n",
    "    h += randLine(7) + '\\n'\n",
    "    h += randLine(5) + '\\n'\n",
    "    return h\n",
    "print haiku()"
   ]
  },
  {
   "cell_type": "markdown",
   "metadata": {},
   "source": [
    "9) You might not recognize all the words in your haikus. That's partly because <tt>d = cmudict.dict()</tt> contains many proper nouns and some strings that aren't really words, like \"ths\". For the last little bit of credit, go back and make sure that your dictionary <tt>d2</tt> only contains words that are <i>also</i> in <tt>words.words</tt>, which is a list of true English words. Note that if you are not careful, assembling your <tt>d2</tt> with this criterion can take a very long time. If you want these points, your solution should be reasonably efficient. (Assembling <tt>d2</tt> should take no more than a few seconds.) <i>Hint: in general, searching through a list is slow.</i>"
   ]
  }
 ],
 "metadata": {
  "kernelspec": {
   "display_name": "Python 2",
   "language": "python",
   "name": "python2"
  },
  "language_info": {
   "codemirror_mode": {
    "name": "ipython",
    "version": 2
   },
   "file_extension": ".py",
   "mimetype": "text/x-python",
   "name": "python",
   "nbconvert_exporter": "python",
   "pygments_lexer": "ipython2",
   "version": "2.7.13"
  }
 },
 "nbformat": 4,
 "nbformat_minor": 1
}
